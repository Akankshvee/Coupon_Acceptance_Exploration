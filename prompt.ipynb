{
 "cells": [
  {
   "cell_type": "markdown",
   "metadata": {},
   "source": [
    "### Will a Customer Accept the Coupon?\n",
    "\n",
    "**Context**\n",
    "\n",
    "Imagine driving through town and a coupon is delivered to your cell phone for a restaraunt near where you are driving. Would you accept that coupon and take a short detour to the restaraunt? Would you accept the coupon but use it on a sunbsequent trip? Would you ignore the coupon entirely? What if the coupon was for a bar instead of a restaraunt? What about a coffee house? Would you accept a bar coupon with a minor passenger in the car? What about if it was just you and your partner in the car? Would weather impact the rate of acceptance? What about the time of day?\n",
    "\n",
    "Obviously, proximity to the business is a factor on whether the coupon is delivered to the driver or not, but what are the factors that determine whether a driver accepts the coupon once it is delivered to them? How would you determine whether a driver is likely to accept a coupon?\n",
    "\n",
    "**Overview**\n",
    "\n",
    "The goal of this project is to use what you know about visualizations and probability distributions to distinguish between customers who accepted a driving coupon versus those that did not.\n",
    "\n",
    "**Data**\n",
    "\n",
    "This data comes to us from the UCI Machine Learning repository and was collected via a survey on Amazon Mechanical Turk. The survey describes different driving scenarios including the destination, current time, weather, passenger, etc., and then ask the person whether he will accept the coupon if he is the driver. Answers that the user will drive there ‘right away’ or ‘later before the coupon expires’ are labeled as ‘Y = 1’ and answers ‘no, I do not want the coupon’ are labeled as ‘Y = 0’.  There are five different types of coupons -- less expensive restaurants (under \\\\$20), coffee houses, carry out & take away, bar, and more expensive restaurants (\\\\$20 - \\\\$50). "
   ]
  },
  {
   "cell_type": "markdown",
   "metadata": {},
   "source": [
    "**Deliverables**\n",
    "\n",
    "Your final product should be a brief report that highlights the differences between customers who did and did not accept the coupons.  To explore the data you will utilize your knowledge of plotting, statistical summaries, and visualization using Python. You will publish your findings in a public facing github repository as your first portfolio piece. \n",
    "\n",
    "\n",
    "\n"
   ]
  },
  {
   "cell_type": "markdown",
   "metadata": {},
   "source": [
    "### Data Description\n",
    "Keep in mind that these values mentioned below are average values.\n",
    "\n",
    "The attributes of this data set include:\n",
    "1. User attributes\n",
    "    -  Gender: male, female\n",
    "    -  Age: below 21, 21 to 25, 26 to 30, etc.\n",
    "    -  Marital Status: single, married partner, unmarried partner, or widowed\n",
    "    -  Number of children: 0, 1, or more than 1\n",
    "    -  Education: high school, bachelors degree, associates degree, or graduate degree\n",
    "    -  Occupation: architecture & engineering, business & financial, etc.\n",
    "    -  Annual income: less than \\\\$12500, \\\\$12500 - \\\\$24999, \\\\$25000 - \\\\$37499, etc.\n",
    "    -  Number of times that he/she goes to a bar: 0, less than 1, 1 to 3, 4 to 8 or greater than 8\n",
    "    -  Number of times that he/she buys takeaway food: 0, less than 1, 1 to 3, 4 to 8 or greater\n",
    "    than 8\n",
    "    -  Number of times that he/she goes to a coffee house: 0, less than 1, 1 to 3, 4 to 8 or\n",
    "    greater than 8\n",
    "    -  Number of times that he/she eats at a restaurant with average expense less than \\\\$20 per\n",
    "    person: 0, less than 1, 1 to 3, 4 to 8 or greater than 8\n",
    "    -  Number of times that he/she goes to a bar: 0, less than 1, 1 to 3, 4 to 8 or greater than 8\n",
    "    \n",
    "\n",
    "2. Contextual attributes\n",
    "    - Driving destination: home, work, or no urgent destination\n",
    "    - Location of user, coupon and destination: we provide a map to show the geographical\n",
    "    location of the user, destination, and the venue, and we mark the distance between each\n",
    "    two places with time of driving. The user can see whether the venue is in the same\n",
    "    direction as the destination.\n",
    "    - Weather: sunny, rainy, or snowy\n",
    "    - Temperature: 30F, 55F, or 80F\n",
    "    - Time: 10AM, 2PM, or 6PM\n",
    "    - Passenger: alone, partner, kid(s), or friend(s)\n",
    "\n",
    "\n",
    "3. Coupon attributes\n",
    "    - time before it expires: 2 hours or one day"
   ]
  },
  {
   "cell_type": "code",
   "execution_count": 1,
   "metadata": {},
   "outputs": [],
   "source": [
    "import matplotlib.pyplot as plt\n",
    "import seaborn as sns\n",
    "import pandas as pd\n",
    "import numpy as np"
   ]
  },
  {
   "cell_type": "markdown",
   "metadata": {},
   "source": [
    "### Problems\n",
    "\n",
    "Use the prompts below to get started with your data analysis.  \n",
    "\n",
    "1. Read in the `coupons.csv` file.\n",
    "\n",
    "\n"
   ]
  },
  {
   "cell_type": "code",
   "execution_count": 2,
   "metadata": {},
   "outputs": [],
   "source": [
    "data = pd.read_csv('data/coupons.csv')"
   ]
  },
  {
   "cell_type": "code",
   "execution_count": 3,
   "metadata": {},
   "outputs": [
    {
     "data": {
      "text/html": [
       "<div>\n",
       "<style scoped>\n",
       "    .dataframe tbody tr th:only-of-type {\n",
       "        vertical-align: middle;\n",
       "    }\n",
       "\n",
       "    .dataframe tbody tr th {\n",
       "        vertical-align: top;\n",
       "    }\n",
       "\n",
       "    .dataframe thead th {\n",
       "        text-align: right;\n",
       "    }\n",
       "</style>\n",
       "<table border=\"1\" class=\"dataframe\">\n",
       "  <thead>\n",
       "    <tr style=\"text-align: right;\">\n",
       "      <th></th>\n",
       "      <th>destination</th>\n",
       "      <th>passanger</th>\n",
       "      <th>weather</th>\n",
       "      <th>temperature</th>\n",
       "      <th>time</th>\n",
       "      <th>coupon</th>\n",
       "      <th>expiration</th>\n",
       "      <th>gender</th>\n",
       "      <th>age</th>\n",
       "      <th>maritalStatus</th>\n",
       "      <th>...</th>\n",
       "      <th>CoffeeHouse</th>\n",
       "      <th>CarryAway</th>\n",
       "      <th>RestaurantLessThan20</th>\n",
       "      <th>Restaurant20To50</th>\n",
       "      <th>toCoupon_GEQ5min</th>\n",
       "      <th>toCoupon_GEQ15min</th>\n",
       "      <th>toCoupon_GEQ25min</th>\n",
       "      <th>direction_same</th>\n",
       "      <th>direction_opp</th>\n",
       "      <th>Y</th>\n",
       "    </tr>\n",
       "  </thead>\n",
       "  <tbody>\n",
       "    <tr>\n",
       "      <th>0</th>\n",
       "      <td>No Urgent Place</td>\n",
       "      <td>Alone</td>\n",
       "      <td>Sunny</td>\n",
       "      <td>55</td>\n",
       "      <td>2PM</td>\n",
       "      <td>Restaurant(&lt;20)</td>\n",
       "      <td>1d</td>\n",
       "      <td>Female</td>\n",
       "      <td>21</td>\n",
       "      <td>Unmarried partner</td>\n",
       "      <td>...</td>\n",
       "      <td>never</td>\n",
       "      <td>NaN</td>\n",
       "      <td>4~8</td>\n",
       "      <td>1~3</td>\n",
       "      <td>1</td>\n",
       "      <td>0</td>\n",
       "      <td>0</td>\n",
       "      <td>0</td>\n",
       "      <td>1</td>\n",
       "      <td>1</td>\n",
       "    </tr>\n",
       "    <tr>\n",
       "      <th>1</th>\n",
       "      <td>No Urgent Place</td>\n",
       "      <td>Friend(s)</td>\n",
       "      <td>Sunny</td>\n",
       "      <td>80</td>\n",
       "      <td>10AM</td>\n",
       "      <td>Coffee House</td>\n",
       "      <td>2h</td>\n",
       "      <td>Female</td>\n",
       "      <td>21</td>\n",
       "      <td>Unmarried partner</td>\n",
       "      <td>...</td>\n",
       "      <td>never</td>\n",
       "      <td>NaN</td>\n",
       "      <td>4~8</td>\n",
       "      <td>1~3</td>\n",
       "      <td>1</td>\n",
       "      <td>0</td>\n",
       "      <td>0</td>\n",
       "      <td>0</td>\n",
       "      <td>1</td>\n",
       "      <td>0</td>\n",
       "    </tr>\n",
       "    <tr>\n",
       "      <th>2</th>\n",
       "      <td>No Urgent Place</td>\n",
       "      <td>Friend(s)</td>\n",
       "      <td>Sunny</td>\n",
       "      <td>80</td>\n",
       "      <td>10AM</td>\n",
       "      <td>Carry out &amp; Take away</td>\n",
       "      <td>2h</td>\n",
       "      <td>Female</td>\n",
       "      <td>21</td>\n",
       "      <td>Unmarried partner</td>\n",
       "      <td>...</td>\n",
       "      <td>never</td>\n",
       "      <td>NaN</td>\n",
       "      <td>4~8</td>\n",
       "      <td>1~3</td>\n",
       "      <td>1</td>\n",
       "      <td>1</td>\n",
       "      <td>0</td>\n",
       "      <td>0</td>\n",
       "      <td>1</td>\n",
       "      <td>1</td>\n",
       "    </tr>\n",
       "    <tr>\n",
       "      <th>3</th>\n",
       "      <td>No Urgent Place</td>\n",
       "      <td>Friend(s)</td>\n",
       "      <td>Sunny</td>\n",
       "      <td>80</td>\n",
       "      <td>2PM</td>\n",
       "      <td>Coffee House</td>\n",
       "      <td>2h</td>\n",
       "      <td>Female</td>\n",
       "      <td>21</td>\n",
       "      <td>Unmarried partner</td>\n",
       "      <td>...</td>\n",
       "      <td>never</td>\n",
       "      <td>NaN</td>\n",
       "      <td>4~8</td>\n",
       "      <td>1~3</td>\n",
       "      <td>1</td>\n",
       "      <td>1</td>\n",
       "      <td>0</td>\n",
       "      <td>0</td>\n",
       "      <td>1</td>\n",
       "      <td>0</td>\n",
       "    </tr>\n",
       "    <tr>\n",
       "      <th>4</th>\n",
       "      <td>No Urgent Place</td>\n",
       "      <td>Friend(s)</td>\n",
       "      <td>Sunny</td>\n",
       "      <td>80</td>\n",
       "      <td>2PM</td>\n",
       "      <td>Coffee House</td>\n",
       "      <td>1d</td>\n",
       "      <td>Female</td>\n",
       "      <td>21</td>\n",
       "      <td>Unmarried partner</td>\n",
       "      <td>...</td>\n",
       "      <td>never</td>\n",
       "      <td>NaN</td>\n",
       "      <td>4~8</td>\n",
       "      <td>1~3</td>\n",
       "      <td>1</td>\n",
       "      <td>1</td>\n",
       "      <td>0</td>\n",
       "      <td>0</td>\n",
       "      <td>1</td>\n",
       "      <td>0</td>\n",
       "    </tr>\n",
       "  </tbody>\n",
       "</table>\n",
       "<p>5 rows × 26 columns</p>\n",
       "</div>"
      ],
      "text/plain": [
       "       destination  passanger weather  temperature  time  \\\n",
       "0  No Urgent Place      Alone   Sunny           55   2PM   \n",
       "1  No Urgent Place  Friend(s)   Sunny           80  10AM   \n",
       "2  No Urgent Place  Friend(s)   Sunny           80  10AM   \n",
       "3  No Urgent Place  Friend(s)   Sunny           80   2PM   \n",
       "4  No Urgent Place  Friend(s)   Sunny           80   2PM   \n",
       "\n",
       "                  coupon expiration  gender age      maritalStatus  ...  \\\n",
       "0        Restaurant(<20)         1d  Female  21  Unmarried partner  ...   \n",
       "1           Coffee House         2h  Female  21  Unmarried partner  ...   \n",
       "2  Carry out & Take away         2h  Female  21  Unmarried partner  ...   \n",
       "3           Coffee House         2h  Female  21  Unmarried partner  ...   \n",
       "4           Coffee House         1d  Female  21  Unmarried partner  ...   \n",
       "\n",
       "   CoffeeHouse CarryAway RestaurantLessThan20 Restaurant20To50  \\\n",
       "0        never       NaN                  4~8              1~3   \n",
       "1        never       NaN                  4~8              1~3   \n",
       "2        never       NaN                  4~8              1~3   \n",
       "3        never       NaN                  4~8              1~3   \n",
       "4        never       NaN                  4~8              1~3   \n",
       "\n",
       "  toCoupon_GEQ5min toCoupon_GEQ15min toCoupon_GEQ25min direction_same  \\\n",
       "0                1                 0                 0              0   \n",
       "1                1                 0                 0              0   \n",
       "2                1                 1                 0              0   \n",
       "3                1                 1                 0              0   \n",
       "4                1                 1                 0              0   \n",
       "\n",
       "  direction_opp  Y  \n",
       "0             1  1  \n",
       "1             1  0  \n",
       "2             1  1  \n",
       "3             1  0  \n",
       "4             1  0  \n",
       "\n",
       "[5 rows x 26 columns]"
      ]
     },
     "execution_count": 3,
     "metadata": {},
     "output_type": "execute_result"
    }
   ],
   "source": [
    "data.head()"
   ]
  },
  {
   "cell_type": "markdown",
   "metadata": {},
   "source": [
    "2. Investigate the dataset for missing or problematic data."
   ]
  },
  {
   "cell_type": "code",
   "execution_count": 4,
   "metadata": {},
   "outputs": [
    {
     "name": "stdout",
     "output_type": "stream",
     "text": [
      "<class 'pandas.core.frame.DataFrame'>\n",
      "RangeIndex: 12684 entries, 0 to 12683\n",
      "Data columns (total 26 columns):\n",
      " #   Column                Non-Null Count  Dtype \n",
      "---  ------                --------------  ----- \n",
      " 0   destination           12684 non-null  object\n",
      " 1   passanger             12684 non-null  object\n",
      " 2   weather               12684 non-null  object\n",
      " 3   temperature           12684 non-null  int64 \n",
      " 4   time                  12684 non-null  object\n",
      " 5   coupon                12684 non-null  object\n",
      " 6   expiration            12684 non-null  object\n",
      " 7   gender                12684 non-null  object\n",
      " 8   age                   12684 non-null  object\n",
      " 9   maritalStatus         12684 non-null  object\n",
      " 10  has_children          12684 non-null  int64 \n",
      " 11  education             12684 non-null  object\n",
      " 12  occupation            12684 non-null  object\n",
      " 13  income                12684 non-null  object\n",
      " 14  car                   108 non-null    object\n",
      " 15  Bar                   12577 non-null  object\n",
      " 16  CoffeeHouse           12467 non-null  object\n",
      " 17  CarryAway             12533 non-null  object\n",
      " 18  RestaurantLessThan20  12554 non-null  object\n",
      " 19  Restaurant20To50      12495 non-null  object\n",
      " 20  toCoupon_GEQ5min      12684 non-null  int64 \n",
      " 21  toCoupon_GEQ15min     12684 non-null  int64 \n",
      " 22  toCoupon_GEQ25min     12684 non-null  int64 \n",
      " 23  direction_same        12684 non-null  int64 \n",
      " 24  direction_opp         12684 non-null  int64 \n",
      " 25  Y                     12684 non-null  int64 \n",
      "dtypes: int64(8), object(18)\n",
      "memory usage: 2.5+ MB\n"
     ]
    }
   ],
   "source": [
    "#Investigate data to determine the cleaning strategy\n",
    "data.info()"
   ]
  },
  {
   "cell_type": "markdown",
   "metadata": {},
   "source": [
    "3. Decide what to do about your missing data -- drop, replace, other..."
   ]
  },
  {
   "cell_type": "code",
   "execution_count": 5,
   "metadata": {},
   "outputs": [],
   "source": [
    "#drop column car. There are only 108 non-null values and doesn't add value to the analysis\n",
    "data = data.drop(columns=['car'])\n",
    "\n",
    "#Convert age to int column\n",
    "data['age'] = data['age'].replace(['50plus'],50).replace(\"below21\", \"20\").astype(int)\n",
    "\n",
    "#Replace all the null values to even out the distribution of data.\n",
    "data.fillna('never', inplace=True)\n",
    "nan_rows  = data[data.isna().any(axis=1)]\n",
    "nan_rows\n",
    "\n",
    "#convert income range to lowest income\n",
    "data['income']=data['income'].astype(str).str.rsplit(\" \").str[0].str.replace(r'[^\\d.]+', '',regex=True).replace('',12500).astype(int)"
   ]
  },
  {
   "cell_type": "code",
   "execution_count": 6,
   "metadata": {},
   "outputs": [
    {
     "name": "stdout",
     "output_type": "stream",
     "text": [
      "<class 'pandas.core.frame.DataFrame'>\n",
      "RangeIndex: 12684 entries, 0 to 12683\n",
      "Data columns (total 25 columns):\n",
      " #   Column                Non-Null Count  Dtype \n",
      "---  ------                --------------  ----- \n",
      " 0   destination           12684 non-null  object\n",
      " 1   passanger             12684 non-null  object\n",
      " 2   weather               12684 non-null  object\n",
      " 3   temperature           12684 non-null  int64 \n",
      " 4   time                  12684 non-null  object\n",
      " 5   coupon                12684 non-null  object\n",
      " 6   expiration            12684 non-null  object\n",
      " 7   gender                12684 non-null  object\n",
      " 8   age                   12684 non-null  int32 \n",
      " 9   maritalStatus         12684 non-null  object\n",
      " 10  has_children          12684 non-null  int64 \n",
      " 11  education             12684 non-null  object\n",
      " 12  occupation            12684 non-null  object\n",
      " 13  income                12684 non-null  int32 \n",
      " 14  Bar                   12684 non-null  object\n",
      " 15  CoffeeHouse           12684 non-null  object\n",
      " 16  CarryAway             12684 non-null  object\n",
      " 17  RestaurantLessThan20  12684 non-null  object\n",
      " 18  Restaurant20To50      12684 non-null  object\n",
      " 19  toCoupon_GEQ5min      12684 non-null  int64 \n",
      " 20  toCoupon_GEQ15min     12684 non-null  int64 \n",
      " 21  toCoupon_GEQ25min     12684 non-null  int64 \n",
      " 22  direction_same        12684 non-null  int64 \n",
      " 23  direction_opp         12684 non-null  int64 \n",
      " 24  Y                     12684 non-null  int64 \n",
      "dtypes: int32(2), int64(8), object(15)\n",
      "memory usage: 2.3+ MB\n"
     ]
    }
   ],
   "source": [
    "#validate data quality, data types and distribution\n",
    "\n",
    "data.info()"
   ]
  },
  {
   "cell_type": "markdown",
   "metadata": {},
   "source": [
    "4. What proportion of the total observations chose to accept the coupon? \n",
    "\n"
   ]
  },
  {
   "cell_type": "code",
   "execution_count": 7,
   "metadata": {},
   "outputs": [
    {
     "data": {
      "text/plain": [
       "Y  coupon               \n",
       "0  Bar                      1190\n",
       "   Carry out & Take away     633\n",
       "   Coffee House             2001\n",
       "   Restaurant(20-50)         834\n",
       "   Restaurant(<20)           816\n",
       "1  Bar                       827\n",
       "   Carry out & Take away    1760\n",
       "   Coffee House             1995\n",
       "   Restaurant(20-50)         658\n",
       "   Restaurant(<20)          1970\n",
       "Name: coupon, dtype: int64"
      ]
     },
     "execution_count": 7,
     "metadata": {},
     "output_type": "execute_result"
    }
   ],
   "source": [
    "#how many accepted and did not accept the coupon\n",
    "coupon_accept = data.groupby(['Y','coupon'])['coupon'].count()\n",
    "coupon_accept\n"
   ]
  },
  {
   "cell_type": "code",
   "execution_count": 8,
   "metadata": {},
   "outputs": [
    {
     "data": {
      "text/plain": [
       "coupon\n",
       "Bar                      41.00\n",
       "Carry out & Take away    73.55\n",
       "Coffee House             49.92\n",
       "Restaurant(20-50)        44.10\n",
       "Restaurant(<20)          70.71\n",
       "Name: coupon, dtype: float64"
      ]
     },
     "execution_count": 8,
     "metadata": {},
     "output_type": "execute_result"
    }
   ],
   "source": [
    "# proportion of the total observations chose to accept the coupon\n",
    "coupon_proportion =(data[data['Y']==1].groupby(['coupon'])['coupon'].count()/ data.groupby(['coupon'])['coupon'].count())*100\n",
    "coupon_proportion.round(2)"
   ]
  },
  {
   "cell_type": "markdown",
   "metadata": {},
   "source": [
    "5. Use a bar plot to visualize the `coupon` column."
   ]
  },
  {
   "cell_type": "code",
   "execution_count": 9,
   "metadata": {},
   "outputs": [
    {
     "data": {
      "text/plain": [
       "[Text(0.5, 0, 'Coupon Acceptance'),\n",
       " Text(0, 0.5, 'Coupon Type'),\n",
       " Text(0.5, 1.0, 'Bar plot to Visualize Coupon Acceptance Rate')]"
      ]
     },
     "execution_count": 9,
     "metadata": {},
     "output_type": "execute_result"
    },
    {
     "data": {
      "image/png": "[encoded data removed]",
      "text/plain": [
       "<Figure size 720x360 with 1 Axes>"
      ]
     },
     "metadata": {},
     "output_type": "display_data"
    }
   ],
   "source": [
    "#Bar plot to visualize the coupon\n",
    "sns.set(rc={\"figure.figsize\":(10, 5)}, font_scale=1.5)\n",
    "\n",
    "ax = sns.barplot(data = data, x = 'Y', y = 'coupon')\n",
    "\n",
    "ax.set(xlabel='Coupon Acceptance',\n",
    "       ylabel='Coupon Type', title='Bar plot to Visualize Coupon Acceptance Rate')"
   ]
  },
  {
   "cell_type": "markdown",
   "metadata": {},
   "source": [
    "6. Use a histogram to visualize the temperature column."
   ]
  },
  {
   "cell_type": "code",
   "execution_count": 10,
   "metadata": {},
   "outputs": [
    {
     "data": {
      "text/plain": [
       "[Text(0.5, 0, 'Temperature'),\n",
       " Text(0, 0.5, 'Count'),\n",
       " Text(0.5, 1.0, 'Histogram of the Life Expectancy')]"
      ]
     },
     "execution_count": 10,
     "metadata": {},
     "output_type": "execute_result"
    },
    {
     "data": {
      "image/png": "[encoded data removed]",
      "text/plain": [
       "<Figure size 720x360 with 1 Axes>"
      ]
     },
     "metadata": {},
     "output_type": "display_data"
    }
   ],
   "source": [
    "sns.set(rc={\"figure.figsize\":(10, 5)}, font_scale=1.5)\n",
    "\n",
    "ax = sns.histplot(data=data,x=\"temperature\",color='green',binwidth=3)\n",
    "\n",
    "ax.set(xlabel='Temperature',\n",
    "       ylabel='Count', title='Histogram of the Life Expectancy')\n",
    "\n",
    "#alternate plot method for histogram\n",
    "#plt.hist(data['temperature'], edgecolor = 'black', bins = 15)\n",
    "#plt.title('Histogram of Temperature');\n"
   ]
  },
  {
   "cell_type": "markdown",
   "metadata": {},
   "source": [
    "**Investigating the Bar Coupons**\n",
    "\n",
    "Now, we will lead you through an exploration of just the bar related coupons.  \n",
    "\n",
    "1. Create a new `DataFrame` that contains just the bar coupons.\n"
   ]
  },
  {
   "cell_type": "code",
   "execution_count": 11,
   "metadata": {},
   "outputs": [],
   "source": [
    "#Filter the bar coupons for more analysis\n",
    "\n",
    "data_bar = data[data['coupon']=='Bar']\n"
   ]
  },
  {
   "cell_type": "markdown",
   "metadata": {},
   "source": [
    "2. What proportion of bar coupons were accepted?\n"
   ]
  },
  {
   "cell_type": "code",
   "execution_count": 12,
   "metadata": {},
   "outputs": [
    {
     "data": {
      "text/plain": [
       "coupon\n",
       "Bar    41.0\n",
       "Name: coupon, dtype: float64"
      ]
     },
     "execution_count": 12,
     "metadata": {},
     "output_type": "execute_result"
    }
   ],
   "source": [
    "#Calculate percentage of bar coupons accepted\n",
    "\n",
    "bar_accept = (data_bar[data_bar['Y']==1].groupby(['coupon'])['coupon'].count()/data_bar.groupby(['coupon'])['coupon'].count())*100\n",
    "bar_accept.round(2)"
   ]
  },
  {
   "cell_type": "markdown",
   "metadata": {},
   "source": [
    "3. Compare the acceptance rate between those who went to a bar 3 or fewer times a month to those who went more.\n"
   ]
  },
  {
   "cell_type": "code",
   "execution_count": 13,
   "metadata": {},
   "outputs": [
    {
     "data": {
      "text/html": [
       "<div>\n",
       "<style scoped>\n",
       "    .dataframe tbody tr th:only-of-type {\n",
       "        vertical-align: middle;\n",
       "    }\n",
       "\n",
       "    .dataframe tbody tr th {\n",
       "        vertical-align: top;\n",
       "    }\n",
       "\n",
       "    .dataframe thead th {\n",
       "        text-align: right;\n",
       "    }\n",
       "</style>\n",
       "<table border=\"1\" class=\"dataframe\">\n",
       "  <thead>\n",
       "    <tr style=\"text-align: right;\">\n",
       "      <th></th>\n",
       "      <th>bar_accept_3orfewer</th>\n",
       "      <th>bar_accept_4ormore</th>\n",
       "    </tr>\n",
       "    <tr>\n",
       "      <th>coupon</th>\n",
       "      <th></th>\n",
       "      <th></th>\n",
       "    </tr>\n",
       "  </thead>\n",
       "  <tbody>\n",
       "    <tr>\n",
       "      <th>Bar</th>\n",
       "      <td>61.67</td>\n",
       "      <td>18.5</td>\n",
       "    </tr>\n",
       "  </tbody>\n",
       "</table>\n",
       "</div>"
      ],
      "text/plain": [
       "        bar_accept_3orfewer  bar_accept_4ormore\n",
       "coupon                                         \n",
       "Bar                   61.67                18.5"
      ]
     },
     "execution_count": 13,
     "metadata": {},
     "output_type": "execute_result"
    }
   ],
   "source": [
    "#Determine the proportion of  acceptance rate with bar visits 3 or fewer times\n",
    "\n",
    "bar_accept_3orfewer = (data_bar[(data_bar['Y']==1)&(data_bar['Bar'].isin(['1~3', 'less1']))].groupby(['coupon'])['coupon'].count()/data_bar[(data_bar['Y']==1)].groupby(['coupon'])['coupon'].count())*100\n",
    "\n",
    "\n",
    "#Determine the proportion of  acceptance rate with bar visits more than 3 times\n",
    "bar_accept_4ormore = (data_bar[(data_bar['Y']==1)&(data_bar['Bar'].isin(['4~8', 'gt8']))].groupby(['coupon'])['coupon'].count()/data_bar[(data_bar['Y']==1)].groupby(['coupon'])['coupon'].count())*100\n",
    "\n",
    "#create a data frame to compare the proportions\n",
    "bar_accept_by_visits = pd.DataFrame({\"bar_accept_3orfewer\" : bar_accept_3orfewer.round(2),\n",
    "                                     \"bar_accept_4ormore\" : bar_accept_4ormore.round(2)\n",
    "                                    })\n",
    "bar_accept_by_visits\n"
   ]
  },
  {
   "cell_type": "code",
   "execution_count": 14,
   "metadata": {},
   "outputs": [
    {
     "data": {
      "text/plain": [
       "[Text(0.5, 0, 'Bar Visit Count'),\n",
       " Text(0, 0.5, 'Total Acceptance'),\n",
       " Text(0.5, 1.0, 'Relationship between Bar visits and Coupon Acceptance Rate')]"
      ]
     },
     "execution_count": 14,
     "metadata": {},
     "output_type": "execute_result"
    },
    {
     "data": {
      "image/png": "[encoded data removed]",
      "text/plain": [
       "<Figure size 720x360 with 1 Axes>"
      ]
     },
     "metadata": {},
     "output_type": "display_data"
    }
   ],
   "source": [
    "#Plot the bar visits to visualize the acceptance rate across all visit ranges\n",
    "\n",
    "sns.set(rc={\"figure.figsize\":(10, 5)}, font_scale=1.5)\n",
    "\n",
    "ax = sns.histplot(data = data_bar[data_bar['Y']==1], x = 'Bar')\n",
    "\n",
    "ax.set(xlabel='Bar Visit Count',\n",
    "       ylabel='Total Acceptance', title='Relationship between Bar visits and Coupon Acceptance Rate')"
   ]
  },
  {
   "cell_type": "markdown",
   "metadata": {},
   "source": [
    "4. Compare the acceptance rate between drivers who go to a bar more than once a month and are over the age of 25 to the all others.  Is there a difference?\n"
   ]
  },
  {
   "cell_type": "code",
   "execution_count": 15,
   "metadata": {},
   "outputs": [
    {
     "data": {
      "text/plain": [
       "coupon\n",
       "Bar    35.308343\n",
       "Name: coupon, dtype: float64"
      ]
     },
     "execution_count": 15,
     "metadata": {},
     "output_type": "execute_result"
    }
   ],
   "source": [
    "#Acceptance rate with bar visits > 1 and age > 25 vs all others\n",
    "\n",
    "bar_accept_over25 = (data_bar[(data_bar['Y']==1)&(~data_bar['Bar'].isin(['less1', 'never']))&(data_bar['age'] > 25)].groupby(['coupon'])['coupon'].count()/data_bar[data_bar['Y']==1].groupby(['coupon'])['coupon'].count())*100\n",
    "bar_accept_over25\n"
   ]
  },
  {
   "cell_type": "code",
   "execution_count": 16,
   "metadata": {},
   "outputs": [
    {
     "data": {
      "text/plain": [
       "[Text(0.5, 0, 'Age'),\n",
       " Text(0, 0.5, 'Bar Visit Count'),\n",
       " Text(0.5, 1.0, 'Coupon Acceptance Rate by Bar visits and age')]"
      ]
     },
     "execution_count": 16,
     "metadata": {},
     "output_type": "execute_result"
    },
    {
     "data": {
      "image/png": "[encoded data removed]",
      "text/plain": [
       "<Figure size 720x360 with 1 Axes>"
      ]
     },
     "metadata": {},
     "output_type": "display_data"
    }
   ],
   "source": [
    "#visualize the bar visit count and age > 25\n",
    "sns.set(rc={\"figure.figsize\":(10, 5)}, font_scale=1.5)\n",
    "\n",
    "ax = sns.boxplot(data = data_bar[data_bar['Y']==1], x = 'age', y = 'Bar')\n",
    "\n",
    "ax.set(xlabel='Age',\n",
    "       ylabel='Bar Visit Count', title='Coupon Acceptance Rate by Bar visits and age')"
   ]
  },
  {
   "cell_type": "markdown",
   "metadata": {},
   "source": [
    "5. Use the same process to compare the acceptance rate between drivers who go to bars more than once a month and had passengers that were not a kid and had occupations other than farming, fishing, or forestry. \n"
   ]
  },
  {
   "cell_type": "code",
   "execution_count": 17,
   "metadata": {},
   "outputs": [
    {
     "data": {
      "text/plain": [
       "coupon\n",
       "Bar    35.308343\n",
       "Name: coupon, dtype: float64"
      ]
     },
     "execution_count": 17,
     "metadata": {},
     "output_type": "execute_result"
    }
   ],
   "source": [
    "#Acceptance rate for bar visits > 1 and no kids and occupation other than farming, fishing, or forestry.\n",
    "\n",
    "bar_accept_nokids = (data_bar[(data_bar['Y']==1)&(~data_bar['Bar'].isin(['less1', 'never']))&(data_bar['has_children'] == 0)&(~data_bar['occupation'].isin(['Farming Fishing & Forestry']))].groupby(['coupon'])['coupon'].count()/data_bar[data_bar['Y']==1].groupby(['coupon'])['coupon'].count())*100\n",
    "bar_accept_nokids"
   ]
  },
  {
   "cell_type": "markdown",
   "metadata": {},
   "source": [
    "6. Compare the acceptance rates between those drivers who:\n",
    "\n",
    "- go to bars more than once a month, had passengers that were not a kid, and were not widowed *OR*\n",
    "- go to bars more than once a month and are under the age of 30 *OR*\n",
    "- go to cheap restaurants more than 4 times a month and income is less than 50K. \n",
    "\n"
   ]
  },
  {
   "cell_type": "code",
   "execution_count": 18,
   "metadata": {},
   "outputs": [
    {
     "data": {
      "text/html": [
       "<div>\n",
       "<style scoped>\n",
       "    .dataframe tbody tr th:only-of-type {\n",
       "        vertical-align: middle;\n",
       "    }\n",
       "\n",
       "    .dataframe tbody tr th {\n",
       "        vertical-align: top;\n",
       "    }\n",
       "\n",
       "    .dataframe thead th {\n",
       "        text-align: right;\n",
       "    }\n",
       "</style>\n",
       "<table border=\"1\" class=\"dataframe\">\n",
       "  <thead>\n",
       "    <tr style=\"text-align: right;\">\n",
       "      <th></th>\n",
       "      <th>bar_nokid_notwidow</th>\n",
       "      <th>bar_age_under30</th>\n",
       "      <th>bar_cheapRestaurant</th>\n",
       "    </tr>\n",
       "    <tr>\n",
       "      <th>coupon</th>\n",
       "      <th></th>\n",
       "      <th></th>\n",
       "      <th></th>\n",
       "    </tr>\n",
       "  </thead>\n",
       "  <tbody>\n",
       "    <tr>\n",
       "      <th>Bar</th>\n",
       "      <td>35.308343</td>\n",
       "      <td>30.108827</td>\n",
       "      <td>18.863362</td>\n",
       "    </tr>\n",
       "  </tbody>\n",
       "</table>\n",
       "</div>"
      ],
      "text/plain": [
       "        bar_nokid_notwidow  bar_age_under30  bar_cheapRestaurant\n",
       "coupon                                                          \n",
       "Bar              35.308343        30.108827            18.863362"
      ]
     },
     "execution_count": 18,
     "metadata": {},
     "output_type": "execute_result"
    }
   ],
   "source": [
    "#go to bars more than once a month, had passengers that were not a kid, and were not widowed OR\n",
    "bar_criteria1 = (data_bar[(data_bar['Y']==1)&(~data_bar['Bar'].isin(['less1', 'never']))&(data_bar['has_children'] == 0)&(~data_bar['maritalStatus'].isin(['widowed']))].groupby(['coupon'])['coupon'].count()/data_bar[data_bar['Y']==1].groupby(['coupon'])['coupon'].count())*100\n",
    "#print(bar_criteria1)\n",
    "\n",
    "#go to bars more than once a month and are under the age of 30 OR\n",
    "bar_criteria2 = (data_bar[(data_bar['Y']==1)&(~data_bar['Bar'].isin(['less1', 'never']))&(data_bar['age'] < 30)].groupby(['coupon'])['coupon'].count()/data_bar[data_bar['Y']==1].groupby(['coupon'])['coupon'].count())*100\n",
    "#print(bar_criteria2)\n",
    "\n",
    "#go to cheap restaurants more than 4 times a month and income is less than 50K.\n",
    "bar_criteria3 = (data_bar[(data_bar['Y']==1)&(data_bar['RestaurantLessThan20'].isin(['4~8', 'gt8']))&(data_bar['income'] < 50000)].groupby(['coupon'])['coupon'].count()/data_bar[data_bar['Y']==1].groupby(['coupon'])['coupon'].count())*100\n",
    "#print(bar_criteria3)\n",
    "\n",
    "#create a data frame to compare the proportions\n",
    "bar_accept_by_visits = pd.DataFrame({\"bar_nokid_notwidow\" : bar_criteria1,\n",
    "                                     \"bar_age_under30\" : bar_criteria2,\n",
    "                                     \"bar_cheapRestaurant\" :bar_criteria3\n",
    "                                    })\n",
    "\n",
    "bar_accept_by_visits"
   ]
  },
  {
   "cell_type": "markdown",
   "metadata": {},
   "source": [
    "7.  Based on these observations, what do you hypothesize about drivers who accepted the bar coupons?"
   ]
  },
  {
   "cell_type": "markdown",
   "metadata": {},
   "source": [
    "## Data Analysis about drivers who accepted Bar coupons\n",
    "\n",
    "### Observations\n",
    "<ol>\n",
    "<li>41% of bar coupon was accepted.</li>\n",
    "<li>61.67% was accepted by people who went to the bar 3 or fewer times.</li>\n",
    "<li>18.5% was accepted by people who went to the bar more than 3 times.</li>\n",
    "<li>35.3% of the drivers who go to the bar more than once and over 25 accept coupon.</li>\n",
    "<li>Interestingly, 35.3% of the drivers who accept the coupon have no kids and do not work in Farming, Fishing or Forestry.</li>\n",
    "<li>35.3% of acceptance is also satisfied by people who are not widowed. Indicating, widowed people who go to bar less than once a month, don't accept the coupon.</li>\n",
    "<li>30% of the drivers who visit more than once are of age&lt;30. </li>\n",
    "<li>18% of the drivers with income &lt;50K and who visit cheap restaurants more than 4 times accept the coupon.</li>\n",
    "</ol>\n",
    "\n",
    "### Hypothesis\n",
    "<ol>\n",
    "<li>Drivers who visit less than 3 times are more likely to accept the coupon</li>\n",
    "<li>Drivers who vist more than once with no kids and do not work in Farming, Fishing or Forestry, are more likely to accept the coupon</li>\n",
    "<li>Coupons are mostly not accepted by widowed drivers who visit less than once and people whose occupation is Farming, Fishing or Forestry</li>\n",
    "<li>Drivers who visit more than once and of age &lt;30 are more likely to accept the coupon </li>\n",
    "<li>Drivers who go to bar more than once a month with no kid, not widowed and age &lt;30 are more likely to accept a coupon.</li>\n",
    "</ol>"
   ]
  },
  {
   "cell_type": "markdown",
   "metadata": {},
   "source": [
    "### Independent Investigation\n",
    "\n",
    "Using the bar coupon example as motivation, you are to explore one of the other coupon groups and try to determine the characteristics of passengers who accept the coupons.  "
   ]
  },
  {
   "cell_type": "code",
   "execution_count": 19,
   "metadata": {},
   "outputs": [
    {
     "data": {
      "text/plain": [
       "coupon\n",
       "Coffee House    49.92\n",
       "Name: coupon, dtype: float64"
      ]
     },
     "execution_count": 19,
     "metadata": {},
     "output_type": "execute_result"
    }
   ],
   "source": [
    "#new DataFrame that contains just the Coffee House coupons.\n",
    "\n",
    "data_CH = data[data['coupon']=='Coffee House']\n",
    "\n",
    "#What proportion of coffee house coupons were accepted\n",
    "CH_accept = (data_CH[data_CH['Y']==1].groupby(['coupon'])['coupon'].count()/data_CH.groupby(['coupon'])['coupon'].count())*100\n",
    "CH_accept.round(2)\n"
   ]
  },
  {
   "cell_type": "markdown",
   "metadata": {},
   "source": [
    "1. Compare the acceptance rate between those who went to a CH 3 or fewer times a month to those who went more."
   ]
  },
  {
   "cell_type": "code",
   "execution_count": 20,
   "metadata": {},
   "outputs": [
    {
     "name": "stdout",
     "output_type": "stream",
     "text": [
      "Acceptance Rate of those who went to a CH 3 or fewer times coupon\n",
      "Coffee House    59.8\n",
      "Name: coupon, dtype: float64\n",
      "Acceptance Rate of those who went to a CH more than 3 times coupon\n",
      "Coffee House    29.77\n",
      "Name: coupon, dtype: float64\n"
     ]
    }
   ],
   "source": [
    "\n",
    "CH_accept_3orfewer = (data_CH[(data_CH['Y']==1)&(data_CH['CoffeeHouse'].isin(['1~3', 'less1']))].groupby(['coupon'])['coupon'].count()/data_CH[(data_CH['Y']==1)].groupby(['coupon'])['coupon'].count())*100\n",
    "print('Acceptance Rate of those who went to a CH 3 or fewer times',CH_accept_3orfewer.round(2))\n",
    "\n",
    "CH_accept_4ormore = (data_CH[(data_CH['Y']==1)&(data_CH['CoffeeHouse'].isin(['4~8', 'gt8']))].groupby(['coupon'])['coupon'].count()/data_CH[(data_CH['Y']==1)].groupby(['coupon'])['coupon'].count())*100\n",
    "print('Acceptance Rate of those who went to a CH more than 3 times',CH_accept_4ormore.round(2))\n"
   ]
  },
  {
   "cell_type": "markdown",
   "metadata": {},
   "source": [
    "2. Compare the acceptance rate between drivers who go to a CH more than once a month and are over the age of 25 to the all others. Is there a difference?"
   ]
  },
  {
   "cell_type": "code",
   "execution_count": 21,
   "metadata": {},
   "outputs": [
    {
     "data": {
      "text/plain": [
       "coupon\n",
       "Coffee House    43.458647\n",
       "Name: coupon, dtype: float64"
      ]
     },
     "execution_count": 21,
     "metadata": {},
     "output_type": "execute_result"
    }
   ],
   "source": [
    "CH_accept_over25 = (data_CH[(data_CH['Y']==1)&(~data_CH['CoffeeHouse'].isin(['less1', 'never']))&(data_CH['age'] > 25)].groupby(['coupon'])['coupon'].count()/data_CH[data_CH['Y']==1].groupby(['coupon'])['coupon'].count())*100\n",
    "CH_accept_over25"
   ]
  },
  {
   "cell_type": "markdown",
   "metadata": {},
   "source": [
    "3. Use the same process to compare the acceptance rate between drivers who go to bars more than once a month and had passengers that were not a kid and had occupations other than farming, fishing, or forestry."
   ]
  },
  {
   "cell_type": "code",
   "execution_count": 22,
   "metadata": {},
   "outputs": [
    {
     "data": {
      "text/plain": [
       "coupon\n",
       "Coffee House    39.197995\n",
       "Name: coupon, dtype: float64"
      ]
     },
     "execution_count": 22,
     "metadata": {},
     "output_type": "execute_result"
    }
   ],
   "source": [
    "\n",
    "CH_accept_nokids = (data_CH[(data_CH['Y']==1)&(~data_CH['CoffeeHouse'].isin(['less1', 'never']))&(data_CH['has_children'] == 0)&(~data_CH['occupation'].isin(['Farming Fishing & Forestry']))].groupby(['coupon'])['coupon'].count()/data_CH[data_CH['Y']==1].groupby(['coupon'])['coupon'].count())*100\n",
    "CH_accept_nokids"
   ]
  },
  {
   "cell_type": "markdown",
   "metadata": {},
   "source": [
    "4. Compare the acceptance rates between those drivers who:\n",
    "<ol>\n",
    "    <li>go to Coffee House more than once a month, had passengers that were not a kid, and were not widowed OR</li>\n",
    "    <li>go to Coffee House more than once a month and are under the age of 30 OR</li>\n",
    "    <li>go to cheap restaurants more than 4 times a month and income is less than 50K.</li>\n",
    "</ol>"
   ]
  },
  {
   "cell_type": "code",
   "execution_count": 23,
   "metadata": {},
   "outputs": [
    {
     "name": "stdout",
     "output_type": "stream",
     "text": [
      "coupon\n",
      "Coffee House    39.197995\n",
      "Name: coupon, dtype: float64\n",
      "coupon\n",
      "Coffee House    34.035088\n",
      "Name: coupon, dtype: float64\n",
      "coupon\n",
      "Coffee House    19.949875\n",
      "Name: coupon, dtype: float64\n"
     ]
    }
   ],
   "source": [
    "#Compare the acceptance rates between those drivers who:\n",
    "#go to Coffee House more than once a month, had passengers that were not a kid, and were not widowed OR\n",
    "CH_criteria1 = (data_CH[(data_CH['Y']==1)&(~data_CH['CoffeeHouse'].isin(['less1', 'never']))&(data_CH['has_children'] == 0)&(~data_CH['maritalStatus'].isin(['widowed']))].groupby(['coupon'])['coupon'].count()/data_CH[data_CH['Y']==1].groupby(['coupon'])['coupon'].count())*100\n",
    "print(CH_criteria1)\n",
    "#go to Coffee House more than once a month and are under the age of 30 OR\n",
    "CH_criteria2 = (data_CH[(data_CH['Y']==1)&(~data_CH['CoffeeHouse'].isin(['less1', 'never']))&(data_CH['age'] < 30)].groupby(['coupon'])['coupon'].count()/data_CH[data_CH['Y']==1].groupby(['coupon'])['coupon'].count())*100\n",
    "print(CH_criteria2)\n",
    "#go to cheap restaurants more than 4 times a month and income is less than 50K.\n",
    "CH_criteria2 = (data_CH[(data_CH['Y']==1)&(data_CH['RestaurantLessThan20'].isin(['4~8', 'gt8']))&(data_CH['income'] < 50000)].groupby(['coupon'])['coupon'].count()/data_CH[data_CH['Y']==1].groupby(['coupon'])['coupon'].count())*100\n",
    "print(CH_criteria2)"
   ]
  },
  {
   "cell_type": "markdown",
   "metadata": {},
   "source": [
    "## Data Analysis about drivers who accepted Coffee House coupons\n",
    "\n",
    "### Observations\n",
    "<ol>\n",
    "<li>49.9% of CoffeeHouse coupon was accepted.</li>\n",
    "<li>59.8% was accepted by people who went to the CoffeeHouse 3 or fewer times.</li>\n",
    "<li>29.7% was accepted by people who went to the CoffeeHouse more than 3 times.</li>\n",
    "<li>43.4% of the drivers who go to the CoffeeHouse more than once and over 25 accept coupon.</li>\n",
    "<li>Interestingly, 39.2% of the drivers who accept the coupon have no kids and do not work in Farming, Fishing or Forestry. There are 14% who take kids too.</li>\n",
    "<li>39.2% of acceptance is also satisfied by people who are not widowed. Indicating, widowed people who go to CoffeeHouse less than once a month, don't accept the coupon.</li>\n",
    "<li>34% of the drivers who visit more than once are of age &lt;30.</li>\n",
    "<li>19% of the drivers with income &lt;50K and who visit cheap restaurants more than 4 times accept the coupon.</li>\n",
    "</ol>\n",
    "\n",
    "### Hypothesis\n",
    "<ol>\n",
    "<li>Drivers who visit less than 3 times are more likely to accept the coupon.</li>\n",
    "<li>Drivers who vist more than once with no kids and do not work in Farming, Fishing or Forestry, are more likely to accept the coupon.</li>\n",
    "<li>Coupons are mostly not accepted by widowed drivers who visit less than once and people whose occupation is Farming, Fishing or Forestry.</li>\n",
    "<li>Drivers who visit more than once and of age &lt;30 are more likely to accept the coupon. </li>\n",
    "<li>Drivers who go to CoffeeHouse more than once a month with no kid, not widowed and age &lt;30 are more likely to accept a coupon.</li>\n",
    "</ol>\n",
    "\n",
    "\n",
    "<b>Bar and CoffeeHouse show similar data. Coupon accept rate is higher in CoffeeHouse versus Bar and most of them visit less than 3 times with no kids.</b>"
   ]
  },
  {
   "cell_type": "code",
   "execution_count": null,
   "metadata": {},
   "outputs": [],
   "source": []
  }
 ],
 "metadata": {
  "kernelspec": {
   "display_name": "Python 3 (ipykernel)",
   "language": "python",
   "name": "python3"
  },
  "language_info": {
   "codemirror_mode": {
    "name": "ipython",
    "version": 3
   },
   "file_extension": ".py",
   "mimetype": "text/x-python",
   "name": "python",
   "nbconvert_exporter": "python",
   "pygments_lexer": "ipython3",
   "version": "3.9.12"
  },
  "widgets": {
   "application/vnd.jupyter.widget-state+json": {
    "state": {},
    "version_major": 2,
    "version_minor": 0
   }
  }
 },
 "nbformat": 4,
 "nbformat_minor": 4
}
